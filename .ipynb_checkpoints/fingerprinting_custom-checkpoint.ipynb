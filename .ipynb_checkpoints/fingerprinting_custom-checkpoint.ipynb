{
 "cells": [
  {
   "cell_type": "code",
   "execution_count": 1,
   "metadata": {},
   "outputs": [],
   "source": [
    "import numpy as np\n",
    "import matplotlib.pyplot as plt\n",
    "import pandas as pd\n",
    "from sklearn.model_selection import train_test_split\n",
    "from sklearn import preprocessing\n",
    "from sklearn.neighbors import KNeighborsClassifier\n",
    "import math\n",
    "import random"
   ]
  },
  {
   "cell_type": "code",
   "execution_count": 2,
   "metadata": {},
   "outputs": [],
   "source": [
    "learn_data = pd.read_csv('my_data/data_learn.csv', sep=',', header=0)\n",
    "learn_data.sample(frac=1) # shuffle learn data\n",
    "\n",
    "x_data = learn_data.drop(['id', 'time', 'lat', 'lon'],axis=1) \n",
    "y_data = learn_data[[ 'time', 'id', 'lat', 'lon']]\n",
    "\n",
    "test_data = pd.read_csv('my_data/data_test.csv', sep=',', header=0) \n",
    "\n",
    "x_test = test_data.drop(['id', 'time', 'lat', 'lon'],axis=1)\n",
    "y_test = test_data[[ 'time', 'id', 'lat', 'lon']]\n",
    "\n",
    "# scale BLE readings\n",
    "x_data = preprocessing.scale(x_data)\n",
    "x_test = preprocessing.scale(x_test)\n"
   ]
  },
  {
   "cell_type": "markdown",
   "metadata": {},
   "source": [
    "WkNN"
   ]
  },
  {
   "cell_type": "code",
   "execution_count": 4,
   "metadata": {},
   "outputs": [
    {
     "data": {
      "text/plain": [
       "0.1837270341207349"
      ]
     },
     "execution_count": 4,
     "metadata": {},
     "output_type": "execute_result"
    }
   ],
   "source": [
    "classifier = KNeighborsClassifier(n_neighbors=5, metric='minkowski', weights='distance', p=1, algorithm='auto')\n",
    "classifier.fit(x_data, y_data['id'])\n",
    "classifier.score(x_test, y_test['id'])"
   ]
  },
  {
   "cell_type": "code",
   "execution_count": 5,
   "metadata": {},
   "outputs": [],
   "source": [
    "distance_between_sectors = pd.read_csv('my_data/distance_between_sector.csv', sep=',', header=0)"
   ]
  },
  {
   "cell_type": "markdown",
   "metadata": {},
   "source": [
    "Custom logic for decision making"
   ]
  },
  {
   "cell_type": "code",
   "execution_count": 6,
   "metadata": {
    "tags": []
   },
   "outputs": [
    {
     "name": "stdout",
     "output_type": "stream",
     "text": [
      "0.16272965879265092\n"
     ]
    }
   ],
   "source": [
    "last_prediction = 0\n",
    "correct = 0\n",
    "\n",
    "for index_j, row in enumerate(classifier.predict_proba(x_test)):\n",
    "    sector_and_distance = [100, 100] # sector number and distance to last predicted sector\n",
    "    for index, row_j in enumerate(row):\n",
    "        if last_prediction == 0:\n",
    "            last_prediction = int(classifier.predict(x_test[0:1])[0])\n",
    "            \n",
    "        if row_j > 0:\n",
    "            distance = distance_between_sectors.loc[distance_between_sectors['id'] == last_prediction, str('{:.0f}'.format(index + 1))].values[0]\n",
    "            \n",
    "            if distance < sector_and_distance[1]:\n",
    "                sector_and_distance[0] = index + 1\n",
    "                sector_and_distance[1] = distance\n",
    "                            \n",
    "    last_prediction = sector_and_distance[0]\n",
    "\n",
    "    distance_custom = distance_between_sectors.loc[distance_between_sectors['id'] == y_test.iloc[[index_j]]['id'].values[0], str(last_prediction)].values[0]\n",
    "    \"\"\" Custom evaluation code \"\"\"\n",
    "    #if distance_custom == 0:\n",
    "    #    correct = correct + 1\n",
    "    #elif distance_custom >= 1 and distance_custom < 2:\n",
    "    #    correct = correct + 0.7\n",
    "    #elif distance_custom >= 2 and distance_custom < 3:\n",
    "    #    correct = correct + 0.4\n",
    "    #elif distance_custom >= 3 and distance_custom < 4:\n",
    "    #    correct = correct + 0.1\n",
    "\n",
    "    if last_prediction == y_test.iloc[[index_j]]['id'].values[0]:\n",
    "        correct = correct + 1\n",
    "\n",
    "accuracy = correct/(index_j +1)\n",
    "    \n",
    "print(accuracy)"
   ]
  }
 ],
 "metadata": {
  "kernelspec": {
   "display_name": "Python 3",
   "language": "python",
   "name": "python3"
  },
  "language_info": {
   "codemirror_mode": {
    "name": "ipython",
    "version": 3
   },
   "file_extension": ".py",
   "mimetype": "text/x-python",
   "name": "python",
   "nbconvert_exporter": "python",
   "pygments_lexer": "ipython3",
   "version": "3.6.9"
  }
 },
 "nbformat": 4,
 "nbformat_minor": 4
}
