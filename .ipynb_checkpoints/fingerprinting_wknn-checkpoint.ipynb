{
 "cells": [
  {
   "cell_type": "code",
   "execution_count": 1,
   "metadata": {},
   "outputs": [],
   "source": [
    "import numpy as np\n",
    "import pandas as pd\n",
    "from sklearn.model_selection import train_test_split\n",
    "from sklearn import preprocessing\n",
    "from sklearn.neighbors import KNeighborsClassifier\n",
    "import math"
   ]
  },
  {
   "cell_type": "code",
   "execution_count": 2,
   "metadata": {},
   "outputs": [],
   "source": [
    "data = pd.read_csv('data/data.csv', sep=',', header=0)\n",
    "x_data = data.drop(['id', 'time', 'lat', 'lon'],axis=1) # drop lat lon, time\n",
    "y_data = data[[ 'time', 'id', 'lat', 'lon']]\n",
    "\n",
    "X_train, X_test, y_train, y_test = train_test_split(x_data, y_data, test_size=0.2)\n",
    "X_train = preprocessing.scale(X_train)\n",
    "X_test = preprocessing.scale(X_test)"
   ]
  },
  {
   "cell_type": "markdown",
   "metadata": {},
   "source": [
    "WkNN"
   ]
  },
  {
   "cell_type": "code",
   "execution_count": 5,
   "metadata": {},
   "outputs": [
    {
     "data": {
      "text/plain": [
       "0.40559440559440557"
      ]
     },
     "execution_count": 5,
     "metadata": {},
     "output_type": "execute_result"
    }
   ],
   "source": [
    "classifier = KNeighborsClassifier(n_neighbors=4, metric='minkowski', weights='distance', p=2, algorithm='auto')\n",
    "classifier.fit(X_train, y_train['id'])\n",
    "classifier.score(X_test, y_test['id'])"
   ]
  },
  {
   "cell_type": "markdown",
   "metadata": {},
   "source": [
    "Search for best 'k' value"
   ]
  },
  {
   "cell_type": "code",
   "execution_count": 18,
   "metadata": {},
   "outputs": [
    {
     "name": "stdout",
     "output_type": "stream",
     "text": [
      "3\n",
      "0.34965034965034963\n"
     ]
    }
   ],
   "source": [
    "best = 0\n",
    "highest = 0\n",
    "for i in range(1,30):\n",
    "    classifier = KNeighborsClassifier(n_neighbors=i, metric='minkowski', weights='distance', p=2, algorithm='auto')\n",
    "    classifier.fit(X_train, y_train['id'])\n",
    "    score = classifier.score(X_test, y_test['id'])\n",
    "    if score > highest:\n",
    "        best = i\n",
    "        highest = score\n",
    "\n",
    "print(best)\n",
    "print(highest)"
   ]
  },
  {
   "cell_type": "markdown",
   "metadata": {},
   "source": [
    "Standard kNN"
   ]
  },
  {
   "cell_type": "code",
   "execution_count": 13,
   "metadata": {},
   "outputs": [
    {
     "data": {
      "text/plain": [
       "0.25874125874125875"
      ]
     },
     "execution_count": 13,
     "metadata": {},
     "output_type": "execute_result"
    }
   ],
   "source": [
    "classifier = KNeighborsClassifier(n_neighbors=3)\n",
    "classifier.fit(X_train, y_train['id'])\n",
    "classifier.score(X_test, y_test['id'])"
   ]
  },
  {
   "cell_type": "markdown",
   "metadata": {},
   "source": [
    "## Custom evaluation method\n",
    "\n"
   ]
  },
  {
   "cell_type": "code",
   "execution_count": 28,
   "metadata": {},
   "outputs": [],
   "source": [
    "distance_between_sectors = pd.read_csv('my_data/distance_between_sector.csv', sep=',', header=0)"
   ]
  },
  {
   "cell_type": "code",
   "execution_count": 38,
   "metadata": {},
   "outputs": [
    {
     "data": {
      "text/plain": [
       "0.5692307692307688"
      ]
     },
     "execution_count": 38,
     "metadata": {},
     "output_type": "execute_result"
    }
   ],
   "source": [
    "correct = 0\n",
    "\n",
    "for index, row in enumerate(X_test):\n",
    "    distance = distance_between_sectors.loc[distance_between_sectors['id'] == y_test.iloc[[index]]['id'].values[0], str('{:.0f}'.format(classifier.predict(X_test[[index]])[0]))].values[0]\n",
    "    if distance == 0:\n",
    "        correct = correct + 1\n",
    "    elif distance >= 1 and distance < 2:\n",
    "        correct = correct + 0.7\n",
    "    elif distance >= 2 and distance < 3:\n",
    "        correct = correct + 0.4\n",
    "    elif distance >= 3 and distance < 4:\n",
    "        correct = correct + 0.1\n",
    "    \n",
    "accuracy = correct/len(X_test)\n",
    "accuracy"
   ]
  }
 ],
 "metadata": {
  "kernelspec": {
   "display_name": "Python 3",
   "language": "python",
   "name": "python3"
  },
  "language_info": {
   "codemirror_mode": {
    "name": "ipython",
    "version": 3
   },
   "file_extension": ".py",
   "mimetype": "text/x-python",
   "name": "python",
   "nbconvert_exporter": "python",
   "pygments_lexer": "ipython3",
   "version": "3.6.9"
  }
 },
 "nbformat": 4,
 "nbformat_minor": 4
}
