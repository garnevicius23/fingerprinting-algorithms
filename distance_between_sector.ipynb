{
 "cells": [
  {
   "cell_type": "code",
   "execution_count": 25,
   "metadata": {},
   "outputs": [],
   "source": [
    "import pandas as pd\n",
    "from geopy import distance\n",
    "import numpy as np\n",
    "import os"
   ]
  },
  {
   "cell_type": "code",
   "execution_count": 45,
   "metadata": {},
   "outputs": [
    {
     "data": {
      "text/html": [
       "<div>\n",
       "<style scoped>\n",
       "    .dataframe tbody tr th:only-of-type {\n",
       "        vertical-align: middle;\n",
       "    }\n",
       "\n",
       "    .dataframe tbody tr th {\n",
       "        vertical-align: top;\n",
       "    }\n",
       "\n",
       "    .dataframe thead th {\n",
       "        text-align: right;\n",
       "    }\n",
       "</style>\n",
       "<table border=\"1\" class=\"dataframe\">\n",
       "  <thead>\n",
       "    <tr style=\"text-align: right;\">\n",
       "      <th></th>\n",
       "      <th>0</th>\n",
       "      <th>1</th>\n",
       "      <th>2</th>\n",
       "    </tr>\n",
       "  </thead>\n",
       "  <tbody>\n",
       "    <tr>\n",
       "      <th>1</th>\n",
       "      <td>1</td>\n",
       "      <td>54.729887</td>\n",
       "      <td>25.263412</td>\n",
       "    </tr>\n",
       "    <tr>\n",
       "      <th>0</th>\n",
       "      <td>2</td>\n",
       "      <td>54.729888</td>\n",
       "      <td>25.263374</td>\n",
       "    </tr>\n",
       "    <tr>\n",
       "      <th>2</th>\n",
       "      <td>3</td>\n",
       "      <td>54.729888</td>\n",
       "      <td>25.263393</td>\n",
       "    </tr>\n",
       "    <tr>\n",
       "      <th>3</th>\n",
       "      <td>4</td>\n",
       "      <td>54.729889</td>\n",
       "      <td>25.263326</td>\n",
       "    </tr>\n",
       "    <tr>\n",
       "      <th>4</th>\n",
       "      <td>5</td>\n",
       "      <td>54.729888</td>\n",
       "      <td>25.263350</td>\n",
       "    </tr>\n",
       "    <tr>\n",
       "      <th>...</th>\n",
       "      <td>...</td>\n",
       "      <td>...</td>\n",
       "      <td>...</td>\n",
       "    </tr>\n",
       "    <tr>\n",
       "      <th>160</th>\n",
       "      <td>161</td>\n",
       "      <td>54.729968</td>\n",
       "      <td>25.263012</td>\n",
       "    </tr>\n",
       "    <tr>\n",
       "      <th>161</th>\n",
       "      <td>162</td>\n",
       "      <td>54.729952</td>\n",
       "      <td>25.263065</td>\n",
       "    </tr>\n",
       "    <tr>\n",
       "      <th>162</th>\n",
       "      <td>163</td>\n",
       "      <td>54.729968</td>\n",
       "      <td>25.263065</td>\n",
       "    </tr>\n",
       "    <tr>\n",
       "      <th>163</th>\n",
       "      <td>164</td>\n",
       "      <td>54.729878</td>\n",
       "      <td>25.262706</td>\n",
       "    </tr>\n",
       "    <tr>\n",
       "      <th>164</th>\n",
       "      <td>165</td>\n",
       "      <td>54.729863</td>\n",
       "      <td>25.262705</td>\n",
       "    </tr>\n",
       "  </tbody>\n",
       "</table>\n",
       "<p>165 rows × 3 columns</p>\n",
       "</div>"
      ],
      "text/plain": [
       "       0          1          2\n",
       "1      1  54.729887  25.263412\n",
       "0      2  54.729888  25.263374\n",
       "2      3  54.729888  25.263393\n",
       "3      4  54.729889  25.263326\n",
       "4      5  54.729888  25.263350\n",
       "..   ...        ...        ...\n",
       "160  161  54.729968  25.263012\n",
       "161  162  54.729952  25.263065\n",
       "162  163  54.729968  25.263065\n",
       "163  164  54.729878  25.262706\n",
       "164  165  54.729863  25.262705\n",
       "\n",
       "[165 rows x 3 columns]"
      ]
     },
     "execution_count": 45,
     "metadata": {},
     "output_type": "execute_result"
    }
   ],
   "source": [
    "\n",
    "sectors = pd.read_csv('data/grafas.csv', sep=',', header=None)\n",
    "sectors = sectors.sort_values(0)\n",
    "\n",
    "neighbours = pd.DataFrame(columns=sectors[0].to_numpy())\n",
    "neighbours.insert(0, 'id', None);\n",
    "sectors\n"
   ]
  },
  {
   "cell_type": "code",
   "execution_count": 50,
   "metadata": {},
   "outputs": [],
   "source": [
    "new_row = list()\n",
    "\n",
    "for i_index, i_row in sectors.iterrows():\n",
    "    new_row = list()\n",
    "    new_row.append('{:.0f}'.format(i_row[0]))\n",
    "    coords_1 = (i_row[1], i_row[2])\n",
    "    \n",
    "    for j_index, j_row in sectors.iterrows():\n",
    "        coords_2 = (j_row[1], j_row[2])\n",
    "        new_row.append(round(distance.distance(coords_1, coords_2).m, 2))\n",
    "    neighbours.loc[i_index] = new_row\n",
    "        "
   ]
  },
  {
   "cell_type": "code",
   "execution_count": 51,
   "metadata": {},
   "outputs": [],
   "source": [
    "neighbours.to_csv('my_data/distance_between_sector.csv', index = False)"
   ]
  },
  {
   "cell_type": "code",
   "execution_count": null,
   "metadata": {},
   "outputs": [],
   "source": []
  }
 ],
 "metadata": {
  "kernelspec": {
   "display_name": "Python 3",
   "language": "python",
   "name": "python3"
  },
  "language_info": {
   "codemirror_mode": {
    "name": "ipython",
    "version": 3
   },
   "file_extension": ".py",
   "mimetype": "text/x-python",
   "name": "python",
   "nbconvert_exporter": "python",
   "pygments_lexer": "ipython3",
   "version": "3.6.9"
  }
 },
 "nbformat": 4,
 "nbformat_minor": 4
}
