{
 "cells": [
  {
   "cell_type": "code",
   "execution_count": 1,
   "metadata": {},
   "outputs": [],
   "source": [
    "import pandas as pd\n",
    "from geopy import distance\n",
    "import numpy as np\n",
    "import os"
   ]
  },
  {
   "cell_type": "markdown",
   "metadata": {},
   "source": [
    "Load sectors ids and coordinates"
   ]
  },
  {
   "cell_type": "code",
   "execution_count": 4,
   "metadata": {},
   "outputs": [],
   "source": [
    "\n",
    "sectors = pd.read_csv('data/grafas.csv', sep=',', header=None)\n",
    "sectors = sectors.sort_values(0)\n",
    "\n",
    "neighbours = pd.DataFrame(columns=sectors[0].to_numpy())\n",
    "neighbours.insert(0, 'id', None);\n"
   ]
  },
  {
   "cell_type": "markdown",
   "metadata": {},
   "source": [
    "Calculate distance between sectors"
   ]
  },
  {
   "cell_type": "code",
   "execution_count": 5,
   "metadata": {},
   "outputs": [],
   "source": [
    "new_row = list()\n",
    "\n",
    "for i_index, i_row in sectors.iterrows():\n",
    "    new_row = list()\n",
    "    new_row.append('{:.0f}'.format(i_row[0]))\n",
    "    coords_1 = (i_row[1], i_row[2])\n",
    "    \n",
    "    for j_index, j_row in sectors.iterrows():\n",
    "        coords_2 = (j_row[1], j_row[2])\n",
    "        new_row.append(round(distance.distance(coords_1, coords_2).m, 2))\n",
    "    neighbours.loc[i_index] = new_row\n",
    "        "
   ]
  },
  {
   "cell_type": "code",
   "execution_count": 6,
   "metadata": {},
   "outputs": [],
   "source": [
    "neighbours.to_csv('my_data/distance_between_sector.csv', index = False)"
   ]
  }
 ],
 "metadata": {
  "kernelspec": {
   "display_name": "Python 3",
   "language": "python",
   "name": "python3"
  },
  "language_info": {
   "codemirror_mode": {
    "name": "ipython",
    "version": 3
   },
   "file_extension": ".py",
   "mimetype": "text/x-python",
   "name": "python",
   "nbconvert_exporter": "python",
   "pygments_lexer": "ipython3",
   "version": "3.6.9"
  }
 },
 "nbformat": 4,
 "nbformat_minor": 4
}
