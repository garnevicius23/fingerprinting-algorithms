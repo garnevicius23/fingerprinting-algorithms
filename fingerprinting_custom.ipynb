{
 "cells": [
  {
   "cell_type": "code",
   "execution_count": 1,
   "metadata": {},
   "outputs": [],
   "source": [
    "import numpy as np\n",
    "import matplotlib.pyplot as plt\n",
    "import pandas as pd\n",
    "from sklearn.model_selection import train_test_split\n",
    "from sklearn import preprocessing\n",
    "from sklearn.neighbors import KNeighborsClassifier\n",
    "import math\n",
    "import random"
   ]
  },
  {
   "cell_type": "code",
   "execution_count": 4,
   "metadata": {},
   "outputs": [],
   "source": [
    "data = pd.read_csv('Bachelor/bachelor2020/data/data.csv', sep=',', header=0)\n",
    "x_data = data.drop(['id', 'time', 'lat', 'lon'],axis=1) # drop lat lon, time\n",
    "y_data = data[[ 'time', 'id', 'lat', 'lon']]\n",
    "\n",
    "X_train, X_test, y_train, y_test = train_test_split(x_data, y_data, test_size=0.2)\n",
    "X_train = preprocessing.scale(X_train)\n",
    "X_test = preprocessing.scale(X_test)"
   ]
  },
  {
   "cell_type": "code",
   "execution_count": 2,
   "metadata": {},
   "outputs": [],
   "source": [
    "learn_data = pd.read_csv('my_data/data_learn.csv', sep=',', header=0)\n",
    "learn_data.sample(frac=1)\n",
    "x_data = learn_data.drop(['id', 'time', 'lat', 'lon'],axis=1) # drop lat lon, time\n",
    "y_data = learn_data[[ 'time', 'id', 'lat', 'lon']]\n",
    "\n",
    "test_data = pd.read_csv('my_data/data_test.csv', sep=',', header=0) # scale test data\n",
    "\n",
    "x_test = test_data.drop(['id', 'time', 'lat', 'lon'],axis=1)\n",
    "y_test = test_data[[ 'time', 'id', 'lat', 'lon']]\n",
    "\n",
    "x_data = preprocessing.scale(x_data)\n",
    "\n",
    "x_test = preprocessing.scale(x_test)\n"
   ]
  },
  {
   "cell_type": "code",
   "execution_count": 114,
   "metadata": {},
   "outputs": [
    {
     "output_type": "execute_result",
     "data": {
      "text/plain": [
       "165"
      ]
     },
     "metadata": {},
     "execution_count": 114
    }
   ],
   "source": [
    "a = np.array(y_data['id'].drop_duplicates())\n",
    "len(a)"
   ]
  },
  {
   "cell_type": "code",
   "execution_count": null,
   "metadata": {},
   "outputs": [],
   "source": []
  },
  {
   "cell_type": "code",
   "execution_count": 35,
   "metadata": {},
   "outputs": [],
   "source": [
    "## WkNN"
   ]
  },
  {
   "cell_type": "code",
   "execution_count": 3,
   "metadata": {},
   "outputs": [
    {
     "output_type": "execute_result",
     "data": {
      "text/plain": [
       "0.1784776902887139"
      ]
     },
     "metadata": {},
     "execution_count": 3
    }
   ],
   "source": [
    "classifier = KNeighborsClassifier(n_neighbors=4, metric='euclidean', weights='distance', p=1, algorithm='auto')\n",
    "classifier.fit(x_data, y_data['id'])\n",
    "classifier.score(x_test, y_test['id'])\n"
   ]
  },
  {
   "cell_type": "code",
   "execution_count": 66,
   "metadata": {},
   "outputs": [
    {
     "output_type": "execute_result",
     "data": {
      "text/plain": [
       "array([165.])"
      ]
     },
     "metadata": {},
     "execution_count": 66
    }
   ],
   "source": [
    "classifier.predict(x_test[0:1])"
   ]
  },
  {
   "cell_type": "code",
   "execution_count": 64,
   "metadata": {},
   "outputs": [
    {
     "output_type": "execute_result",
     "data": {
      "text/plain": [
       "array([[0.        , 0.        , 0.        , ..., 0.        , 0.        ,\n",
       "        0.88611968],\n",
       "       [0.        , 0.        , 0.        , ..., 0.        , 0.        ,\n",
       "        1.        ],\n",
       "       [0.        , 0.        , 0.        , ..., 0.        , 0.65146286,\n",
       "        0.34853714],\n",
       "       ...,\n",
       "       [0.        , 0.        , 0.        , ..., 0.        , 0.        ,\n",
       "        0.        ],\n",
       "       [0.        , 0.        , 0.        , ..., 0.        , 0.        ,\n",
       "        0.        ],\n",
       "       [0.        , 0.        , 0.        , ..., 0.        , 0.        ,\n",
       "        0.        ]])"
      ]
     },
     "metadata": {},
     "execution_count": 64
    }
   ],
   "source": [
    "classifier.predict_proba(x_test)"
   ]
  },
  {
   "source": [
    "## Custom evaluation method\n",
    "\n"
   ],
   "cell_type": "code",
   "metadata": {},
   "execution_count": null,
   "outputs": []
  },
  {
   "cell_type": "code",
   "execution_count": 4,
   "metadata": {},
   "outputs": [],
   "source": [
    "distance_between_sectors = pd.read_csv('my_data/distance_between_sector.csv', sep=',', header=0)\n",
    "\n",
    "distance = distance_between_sectors.loc[distance_between_sectors['id'] == 164, '165'].values[0]"
   ]
  },
  {
   "cell_type": "code",
   "execution_count": 76,
   "metadata": {},
   "outputs": [
    {
     "output_type": "execute_result",
     "data": {
      "text/plain": [
       "1.58"
      ]
     },
     "metadata": {},
     "execution_count": 76
    }
   ],
   "source": [
    "distance_between_sectors.loc[distance_between_sectors['id'] == 165, str('{:.0f}'.format(164))].values[0]"
   ]
  },
  {
   "cell_type": "code",
   "execution_count": 96,
   "metadata": {},
   "outputs": [
    {
     "output_type": "execute_result",
     "data": {
      "text/plain": [
       "164"
      ]
     },
     "metadata": {},
     "execution_count": 96
    }
   ],
   "source": [
    "len(classifier.predict_proba(x_test[1:2])[0])"
   ]
  },
  {
   "cell_type": "code",
   "execution_count": 6,
   "metadata": {
    "tags": []
   },
   "outputs": [
    {
     "output_type": "execute_result",
     "data": {
      "text/plain": [
       "0.015748031496062992"
      ]
     },
     "metadata": {},
     "execution_count": 6
    }
   ],
   "source": [
    "last_prediction = 0\n",
    "correct = 0\n",
    "\n",
    "for row in classifier.predict_proba(x_test):\n",
    "    sector_and_distance = [100, 100] # sector number and distance to last predicted sector\n",
    "    for index, row_j in enumerate(row):\n",
    "        \n",
    "        if last_prediction == 0:\n",
    "            last_prediction = classifier.predict(x_test[0:1])[0]\n",
    "            \n",
    "        \n",
    "        if row_j > 0:\n",
    "            distance = distance_between_sectors.loc[distance_between_sectors['id'] == last_prediction, str('{:.0f}'.format(index + 1))].values[0]\n",
    "            \n",
    "            \n",
    "            if distance < sector_and_distance[1]:\n",
    "                sector_and_distance[0] = index + 1\n",
    "                sector_and_distance[1] = distance\n",
    "    \n",
    "    \n",
    "    last_prediction = sector_and_distance[0]\n",
    "\n",
    "    if last_prediction == y_test.iloc[[index]]['id'].values[0]:\n",
    "        correct = correct + 1\n",
    "\n",
    "accuracy = correct/len(x_test)\n",
    "accuracy"
   ]
  },
  {
   "cell_type": "code",
   "execution_count": 7,
   "metadata": {},
   "outputs": [
    {
     "output_type": "execute_result",
     "data": {
      "text/plain": [
       "0.3832020997375327"
      ]
     },
     "metadata": {},
     "execution_count": 7
    }
   ],
   "source": [
    "correct = 0\n",
    "\n",
    "for index, row in enumerate(x_test):\n",
    "    distance = distance_between_sectors.loc[distance_between_sectors['id'] == y_test.iloc[[index]]['id'].values[0], str('{:.0f}'.format(classifier.predict(x_test[[index]])[0]))].values[0]\n",
    "    if distance == 0:\n",
    "        correct = correct + 1\n",
    "    elif distance >= 1 and distance < 2:\n",
    "        correct = correct + 0.7\n",
    "    elif distance >= 2 and distance < 3:\n",
    "        correct = correct + 0.4\n",
    "    elif distance >= 3 and distance < 4:\n",
    "        correct = correct + 0.1\n",
    "    \n",
    "accuracy = correct/len(x_test)\n",
    "accuracy"
   ]
  },
  {
   "cell_type": "code",
   "execution_count": null,
   "metadata": {},
   "outputs": [],
   "source": []
  }
 ],
 "metadata": {
  "kernelspec": {
   "display_name": "Python 3",
   "language": "python",
   "name": "python3"
  },
  "language_info": {
   "codemirror_mode": {
    "name": "ipython",
    "version": 3
   },
   "file_extension": ".py",
   "mimetype": "text/x-python",
   "name": "python",
   "nbconvert_exporter": "python",
   "pygments_lexer": "ipython3",
   "version": "3.7.4-final"
  }
 },
 "nbformat": 4,
 "nbformat_minor": 4
}