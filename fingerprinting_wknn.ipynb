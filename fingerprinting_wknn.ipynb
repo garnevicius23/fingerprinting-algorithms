{
 "cells": [
  {
   "cell_type": "code",
   "execution_count": 2,
   "metadata": {},
   "outputs": [],
   "source": [
    "import numpy as np\n",
    "import matplotlib.pyplot as plt\n",
    "import pandas as pd\n",
    "from sklearn.model_selection import train_test_split\n",
    "from sklearn import preprocessing\n",
    "from sklearn.neighbors import KNeighborsClassifier\n",
    "import math"
   ]
  },
  {
   "cell_type": "code",
   "execution_count": 4,
   "metadata": {},
   "outputs": [],
   "source": [
    "data = pd.read_csv('Bachelor/bachelor2020/data/data.csv', sep=',', header=0)\n",
    "x_data = data.drop(['id', 'time', 'lat', 'lon'],axis=1) # drop lat lon, time\n",
    "y_data = data[[ 'time', 'id', 'lat', 'lon']]\n",
    "\n",
    "X_train, X_test, y_train, y_test = train_test_split(x_data, y_data, test_size=0.2)\n",
    "X_train = preprocessing.scale(X_train)\n",
    "X_test = preprocessing.scale(X_test)"
   ]
  },
  {
   "cell_type": "code",
   "execution_count": 35,
   "metadata": {},
   "outputs": [],
   "source": [
    "## WkNN"
   ]
  },
  {
   "cell_type": "code",
   "execution_count": 37,
   "metadata": {},
   "outputs": [
    {
     "output_type": "execute_result",
     "data": {
      "text/plain": [
       "0.3531468531468531"
      ]
     },
     "metadata": {},
     "execution_count": 37
    }
   ],
   "source": [
    "classifier = KNeighborsClassifier(n_neighbors=4, metric='euclidean', weights='distance', p=1, algorithm='auto')\n",
    "classifier.fit(X_train, y_train['id'])\n",
    "classifier.score(X_test, y_test['id'])"
   ]
  },
  {
   "cell_type": "code",
   "execution_count": 36,
   "metadata": {},
   "outputs": [],
   "source": [
    "## Not WkNN"
   ]
  },
  {
   "cell_type": "code",
   "execution_count": 27,
   "metadata": {},
   "outputs": [
    {
     "output_type": "execute_result",
     "data": {
      "text/plain": [
       "0.2867132867132867"
      ]
     },
     "metadata": {},
     "execution_count": 27
    }
   ],
   "source": [
    "classifier = KNeighborsClassifier(n_neighbors=4)\n",
    "classifier.fit(X_train, y_train['id'])\n",
    "classifier.score(X_test, y_test['id'])"
   ]
  },
  {
   "source": [
    "## Custom evaluation method\n",
    "\n"
   ],
   "cell_type": "code",
   "metadata": {},
   "execution_count": null,
   "outputs": []
  },
  {
   "cell_type": "code",
   "execution_count": 28,
   "metadata": {},
   "outputs": [],
   "source": [
    "distance_between_sectors = pd.read_csv('Bachelor/bachelor2020/my_data/distance_between_sector.csv', sep=',', header=0)\n",
    "\n",
    "distance = distance_between_sectors.loc[distance_between_sectors['id'] == 164, '165'].values[0]"
   ]
  },
  {
   "cell_type": "code",
   "execution_count": 38,
   "metadata": {},
   "outputs": [
    {
     "output_type": "execute_result",
     "data": {
      "text/plain": [
       "0.5692307692307688"
      ]
     },
     "metadata": {},
     "execution_count": 38
    }
   ],
   "source": [
    "correct = 0\n",
    "\n",
    "for index, row in enumerate(X_test):\n",
    "    distance = distance_between_sectors.loc[distance_between_sectors['id'] == y_test.iloc[[index]]['id'].values[0], str('{:.0f}'.format(classifier.predict(X_test[[index]])[0]))].values[0]\n",
    "    if distance == 0:\n",
    "        correct = correct + 1\n",
    "    elif distance >= 1 and distance < 2:\n",
    "        correct = correct + 0.7\n",
    "    elif distance >= 2 and distance < 3:\n",
    "        correct = correct + 0.4\n",
    "    elif distance >= 3 and distance < 4:\n",
    "        correct = correct + 0.1\n",
    "    \n",
    "accuracy = correct/len(X_test)\n",
    "accuracy"
   ]
  },
  {
   "cell_type": "code",
   "execution_count": null,
   "metadata": {},
   "outputs": [],
   "source": []
  }
 ],
 "metadata": {
  "kernelspec": {
   "display_name": "Python 3",
   "language": "python",
   "name": "python3"
  },
  "language_info": {
   "codemirror_mode": {
    "name": "ipython",
    "version": 3
   },
   "file_extension": ".py",
   "mimetype": "text/x-python",
   "name": "python",
   "nbconvert_exporter": "python",
   "pygments_lexer": "ipython3",
   "version": "3.7.4-final"
  }
 },
 "nbformat": 4,
 "nbformat_minor": 4
}