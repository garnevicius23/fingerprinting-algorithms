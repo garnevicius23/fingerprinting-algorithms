{
 "cells": [
  {
   "cell_type": "code",
   "execution_count": 3,
   "metadata": {},
   "outputs": [],
   "source": [
    "import numpy as np\n",
    "import matplotlib.pyplot as plt\n",
    "import pandas as pd\n",
    "from sklearn import svm\n",
    "from sklearn.model_selection import train_test_split\n",
    "from sklearn import preprocessing\n",
    "from sklearn.neighbors import KNeighborsClassifier\n",
    "from sklearn.preprocessing import StandardScaler\n",
    "from sklearn.pipeline import Pipeline\n",
    "import math"
   ]
  },
  {
   "cell_type": "markdown",
   "metadata": {},
   "source": [
    "Load data"
   ]
  },
  {
   "cell_type": "code",
   "execution_count": 4,
   "metadata": {},
   "outputs": [],
   "source": [
    "data = pd.read_csv('data/data.csv', sep=',', header=0)\n",
    "x_data = data.drop(['id', 'time', 'lat', 'lon'],axis=1) # drop lat lon, time\n",
    "y_data = data[[ 'time', 'id', 'lat', 'lon']]\n",
    "\n",
    "X_train, X_test, y_train, y_test = train_test_split(x_data, y_data, test_size=0.2)\n",
    "X_train = preprocessing.scale(X_train)\n",
    "X_test = preprocessing.scale(X_test)"
   ]
  },
  {
   "cell_type": "markdown",
   "metadata": {},
   "source": [
    "Define custom evaluation function"
   ]
  },
  {
   "cell_type": "code",
   "execution_count": 9,
   "metadata": {},
   "outputs": [],
   "source": [
    "distance_between_sectors = pd.read_csv('my_data/distance_between_sector.csv', sep=',', header=0)\n",
    "\n",
    "def custom():\n",
    "    correct = 0\n",
    "\n",
    "    for index, row in enumerate(X_test):\n",
    "        distance = distance_between_sectors.loc[distance_between_sectors['id'] == y_test.iloc[[index]]['id'].values[0], str('{:.0f}'.format(classifier.predict(X_test[[index]])[0]))].values[0]\n",
    "        if distance == 0:\n",
    "            correct = correct + 1\n",
    "        elif distance >= 1 and distance < 2:\n",
    "            correct = correct + 0.7\n",
    "        elif distance >= 2 and distance < 3:\n",
    "            correct = correct + 0.4\n",
    "        elif distance >= 3 and distance < 4:\n",
    "            correct = correct + 0.1\n",
    "\n",
    "    accuracy = correct/len(X_test)\n",
    "    return(accuracy)"
   ]
  },
  {
   "cell_type": "markdown",
   "metadata": {},
   "source": [
    "Collect accuracy with different classifiers parameters"
   ]
  },
  {
   "cell_type": "code",
   "execution_count": 10,
   "metadata": {},
   "outputs": [],
   "source": [
    "accuracy = []\n",
    "accuracy_svm = []\n",
    "custom_acc = []\n",
    "custom_svm = []\n",
    "custom_wknn = []\n",
    "custom_wknn_p = []\n",
    "wknn = []\n",
    "wknn_p = []\n",
    "k = []\n",
    "\n",
    "best = 0\n",
    "highest = 0\n",
    "p = Pipeline([('s', StandardScaler()),\n",
    "            ('c', svm.LinearSVC(tol=1e-1, max_iter=1000))])\n",
    "p.fit(X_train, y_train['id'])\n",
    "\n",
    "svm_score = p.score(X_test, y_test['id']) * 100\n",
    "for i in range(1,30):\n",
    "    classifier = KNeighborsClassifier(n_neighbors=i, metric='minkowski', weights='distance', p=2, algorithm='auto')\n",
    "    classifier.fit(X_train, y_train['id'])\n",
    "    score = classifier.score(X_test, y_test['id'])\n",
    "    wknn.append(score*100)\n",
    "    custom_wknn.append(custom()*100)\n",
    "    \n",
    "    classifier = KNeighborsClassifier(n_neighbors=i, metric='minkowski', weights='distance', p=1, algorithm='auto')\n",
    "    classifier.fit(X_train, y_train['id'])\n",
    "    score = classifier.score(X_test, y_test['id'])\n",
    "    wknn_p.append(score*100)\n",
    "    custom_wknn_p.append(custom()*100)\n",
    "    \n",
    "    classifier = KNeighborsClassifier(n_neighbors=i)\n",
    "    classifier.fit(X_train, y_train['id'])\n",
    "    score = classifier.score(X_test, y_test['id'])\n",
    "    k.append(i)\n",
    "    accuracy.append(score*100)\n",
    "    accuracy_svm.append(svm_score)\n",
    "    \n",
    "    custom_acc.append(custom()*100)\n",
    "    custom_svm.append(49)\n",
    "    if score > highest:\n",
    "        best = i\n",
    "        highest = score\n"
   ]
  },
  {
   "cell_type": "code",
   "execution_count": 11,
   "metadata": {},
   "outputs": [
    {
     "data": {
      "image/png": "[encoded data removed]",
      "text/plain": [
       "<Figure size 432x288 with 1 Axes>"
      ]
     },
     "metadata": {
      "needs_background": "light"
     },
     "output_type": "display_data"
    }
   ],
   "source": [
    "plt.plot(k, accuracy, label='kNN')\n",
    "plt.plot(k, accuracy_svm, label='SVM')\n",
    "plt.plot(k, wknn_p, label='WkNN')\n",
    "#plt.plot(k, wknn, label='WkNN - Euklido atstumas')\n",
    "#plt.plot(k, custom_acc, label='kNN')\n",
    "#plt.plot(k, custom_svm, label='SVM')\n",
    "#plt.plot(k, custom_wknn_p, label='WkNN')\n",
    "plt.xlabel(\"k skaičius\")\n",
    "plt.ylabel(\"Tikslumas %\")\n",
    "plt.grid(color='black', linestyle='dotted', linewidth=0.5)\n",
    "plt.xticks(np.arange(min(k), max(k)+1, 2.0))\n",
    "plt.yticks(np.arange(0, 105, 10))\n",
    "plt.legend()\n",
    "plt.show()"
   ]
  }
 ],
 "metadata": {
  "kernelspec": {
   "display_name": "Python 3",
   "language": "python",
   "name": "python3"
  },
  "language_info": {
   "codemirror_mode": {
    "name": "ipython",
    "version": 3
   },
   "file_extension": ".py",
   "mimetype": "text/x-python",
   "name": "python",
   "nbconvert_exporter": "python",
   "pygments_lexer": "ipython3",
   "version": "3.6.9"
  }
 },
 "nbformat": 4,
 "nbformat_minor": 4
}
